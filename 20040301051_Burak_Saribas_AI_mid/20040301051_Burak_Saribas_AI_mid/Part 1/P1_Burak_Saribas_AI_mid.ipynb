{
 "cells": [
  {
   "cell_type": "markdown",
   "metadata": {},
   "source": [
    "# Breadth First Search (BFS) Shortest Path"
   ]
  },
  {
   "cell_type": "code",
   "execution_count": null,
   "metadata": {},
   "outputs": [],
   "source": [
    "from collections import deque\n",
    "\n",
    "def bfs_shortest_path(graph, start, end):\n",
    "    queue = deque([(start, [start])])\n",
    "    visited = set()\n",
    "\n",
    "    while queue:\n",
    "        current_node, path = queue.popleft()\n",
    "\n",
    "        if current_node == end:\n",
    "            return path\n",
    "\n",
    "        if current_node in visited:\n",
    "            continue\n",
    "\n",
    "        for neighbor in graph[current_node]:\n",
    "            if neighbor not in visited:\n",
    "                queue.append((neighbor, path + [neighbor]))\n",
    "\n",
    "    return None\n",
    "\n",
    "graph = {\n",
    "    'A': ['B'],\n",
    "    'B': ['A', 'C', 'D'],\n",
    "    'C': ['B', 'D'],\n",
    "    'D': []\n",
    "}\n",
    "\n",
    "mat = [\n",
    "    [0, 2, 1, 0], \n",
    "    [0, 3, 1, 1],\n",
    "    [2, 2, 3, 0], \n",
    "    [2, 3, 3, 1]\n",
    "]\n",
    "\n",
    "print(bfs_shortest_path(graph, 'A', 'D'))\n",
    "print(bfs_shortest_path(mat, 0, 3))\n"
   ]
  },
  {
   "cell_type": "markdown",
   "metadata": {},
   "source": [
    "# Dijkstra"
   ]
  },
  {
   "cell_type": "code",
   "execution_count": null,
   "metadata": {},
   "outputs": [],
   "source": [
    "import heapq\n",
    "\n",
    "def dijkstra(graph, start, end):\n",
    "\tdistances = {}\n",
    "\tprevious = {node: None for node in graph}\n",
    "\n",
    "\tfor node in graph:\n",
    "\t\tif node == start:\n",
    "\t\t\tdistances[node] = 0\n",
    "\t\telse:\n",
    "\t\t\tdistances[node] = float('infinity')\n",
    "\n",
    "\tpriority_queue = [(0, start)]\n",
    "\t\n",
    "\twhile priority_queue:\n",
    "\t\tcurrent_distance, current_node = heapq.heappop(priority_queue)\n",
    "\n",
    "\t\tif current_distance > distances[current_node]:\n",
    "\t\t\tcontinue\n",
    "\n",
    "\t\tfor neighbor, cost in graph[current_node].items():\n",
    "\t\t\tdistance = current_distance + cost\n",
    "\n",
    "\t\t\tif distance < distances[neighbor]:\n",
    "\t\t\t\tdistances[neighbor] = distance\n",
    "\t\t\t\theapq.heappush(priority_queue, (distance, neighbor))\n",
    "\t\t\t\tprevious[neighbor] = current_node\n",
    "\n",
    "\tshortest_path = []\n",
    "\tnode = end\n",
    "\twhile node != None:\n",
    "\t\tshortest_path.insert(0, node)\n",
    "\t\tnode = previous[node]\n",
    "\t\t\n",
    "\n",
    "\treturn distances, previous, shortest_path\n",
    "\n",
    "\n",
    "graph = {\n",
    "    'A': {'B': 12, 'C': 4},\n",
    "    'B': {'A': 12, 'C': 22, 'D': 75},\n",
    "    'C': {'A': 4, 'B': 2,212 'D': 71},\n",
    "    'D': {'B': 5, 'C': 1}\n",
    "}\n",
    "\n",
    "distances, previous_nodes, shortest_path = dijkstra(graph, 'A', 'D')\n",
    "print(distances, previous_nodes, shortest_path)\n"
   ]
  }
 ],
 "metadata": {
  "kernelspec": {
   "display_name": "bs",
   "language": "python",
   "name": "python3"
  },
  "language_info": {
   "codemirror_mode": {
    "name": "ipython",
    "version": 3
   },
   "file_extension": ".py",
   "mimetype": "text/x-python",
   "name": "python",
   "nbconvert_exporter": "python",
   "pygments_lexer": "ipython3",
   "version": "3.9.18"
  }
 },
 "nbformat": 4,
 "nbformat_minor": 2
}
