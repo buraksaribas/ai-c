{
 "cells": [
  {
   "cell_type": "code",
   "execution_count": 6,
   "metadata": {},
   "outputs": [],
   "source": [
    "import numpy as np\n",
    "import csv\n",
    "\n",
    "min_num = 0\n",
    "max_num = 9\n",
    "\n",
    "Q = {}\n",
    "\n",
    "learning_rate = 0.1\n",
    "discount_factor = 0.9\n",
    "exploration_rate = 0.5\n",
    "episodes = 10000\n",
    "\n",
    "goal = 5\n",
    "\n",
    "for episode in range(episodes):\n",
    "    current_state = np.random.randint(min_num, max_num + 1)\n",
    "    done = False\n",
    "    reward = 0\n",
    "\n",
    "    while not done:\n",
    "        is_greater = current_state < goal\n",
    "        state_key = (current_state, is_greater)\n",
    "        \n",
    "        if state_key not in Q.keys():\n",
    "            Q[state_key] = np.zeros(max_num + 1)\n",
    "\n",
    "        if np.random.uniform(0,1) < exploration_rate:\n",
    "            action = np.random.randint(min_num, max_num + 1)\n",
    "        else:\n",
    "            action = np.argmax(Q[state_key])\n",
    "\n",
    "        if action == goal:\n",
    "            reward = reward + 10\n",
    "        else:\n",
    "            reward += -1\n",
    "\n",
    "        if is_greater and action < goal:\n",
    "            reward += -10\n",
    "        elif not is_greater and action > goal:\n",
    "            reward += -10\n",
    "        \n",
    "        next_state_key = (action, action < goal)\n",
    "        max_next_q = 0\n",
    "\n",
    "        if next_state_key in Q.keys():\n",
    "            max_next_q = np.argmax(Q[next_state_key])\n",
    "        \n",
    "        Q[state_key][action] = (1 - learning_rate) * Q[state_key][action] + learning_rate * (reward + discount_factor * max_next_q)\n",
    "        current_state = action\n",
    "\n",
    "        if action == goal:\n",
    "            done = True\n",
    "\n",
    "with open(\"qtable.csv\", \"w\", newline=\"\") as csvfile:\n",
    "    writer = csv.writer(csvfile)\n",
    "    for key, value in Q.items():\n",
    "        writer.writerow([key, value])"
   ]
  },
  {
   "cell_type": "code",
   "execution_count": 7,
   "metadata": {},
   "outputs": [
    {
     "name": "stdout",
     "output_type": "stream",
     "text": [
      "Goal: 3, Action: 5\n",
      "Goal reached: 1\n"
     ]
    }
   ],
   "source": [
    "goal = 5\n",
    "\n",
    "current_state = np.random.randint(min_num, max_num + 1)\n",
    "count = 0\n",
    "\n",
    "while True:\n",
    "    is_less = current_state < goal\n",
    "    state_key = (current_state, is_less)\n",
    "\n",
    "    if state_key not in Q:\n",
    "        action = np.random.randint(0, max_num + 1)\n",
    "    else:\n",
    "        action = np.argmax(Q[state_key])\n",
    "\n",
    "    print(f\"Goal: {current_state}, Action: {action}\")\n",
    "    count = count + 1\n",
    "    if action == goal:\n",
    "        print(\"Goal reached:\", count)\n",
    "        break\n",
    "    else:\n",
    "        current_state = np.random.randint(min_num, max_num + 1)"
   ]
  }
 ],
 "metadata": {
  "kernelspec": {
   "display_name": "base",
   "language": "python",
   "name": "python3"
  },
  "language_info": {
   "codemirror_mode": {
    "name": "ipython",
    "version": 3
   },
   "file_extension": ".py",
   "mimetype": "text/x-python",
   "name": "python",
   "nbconvert_exporter": "python",
   "pygments_lexer": "ipython3",
   "version": "3.11.5"
  }
 },
 "nbformat": 4,
 "nbformat_minor": 2
}
