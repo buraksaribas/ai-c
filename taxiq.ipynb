{
 "cells": [
  {
   "cell_type": "code",
   "execution_count": null,
   "metadata": {},
   "outputs": [],
   "source": [
    "import gymnasium as gym\n",
    "import numpy as np\n",
    "import random\n",
    "\n",
    "env = gym.make(\"Taxi-v3\")\n",
    "\n",
    "Q = np.zeros([env.observation_space.n, env.action_space.n])\n",
    "\n",
    "learning_rate = 0.1\n",
    "discount_factor = 0.6\n",
    "episodes = 10000\n",
    "\n",
    "for episode in range(episodes):\n",
    "    state = env.reset()[0]\n",
    "    done = False\n",
    "    \n",
    "    while not done:\n",
    "        r = episode/episodes\n",
    "\n",
    "        if random.random() >=r:\n",
    "            action = env.action_space.sample()\n",
    "        else:\n",
    "            action = np.argmax(Q[state])\n",
    "        \n",
    "        next_state, reward, terminated, truncated, info = env.step(action)\n",
    "        old_value = Q[state][action]\n",
    "        next_state_max = np.max(Q[next_state])\n",
    "        \n",
    "        Q[state][action] = (1 - learning_rate) * old_value + learning_rate * (reward + discount_factor * next_state_max)\n",
    "\n",
    "        state = next_state\n",
    "        done = terminated or truncated\n",
    "\n",
    "    print(f\"Episode: {episode}\")\n",
    "\n",
    "    \n",
    "np.savetxt('qtable.csv', Q, fmt='%s')"
   ]
  },
  {
   "cell_type": "code",
   "execution_count": null,
   "metadata": {},
   "outputs": [],
   "source": [
    "episodes = 10\n",
    "Q = np.loadtxt('qtable.csv')\n",
    "env = gym.make(\"Taxi-v3\", render_mode=\"human\")\n",
    "\n",
    "for episode in range(episodes):\n",
    "    state = env.reset()[0]    \n",
    "    done = False\n",
    "    while not done:\n",
    "        action = np.argmax(Q[state])\n",
    "        state, reward, terminated, truncated, info = env.step(action)\n",
    "        done = terminated or truncated\n",
    "\n",
    "env.close()\n"
   ]
  }
 ],
 "metadata": {
  "kernelspec": {
   "display_name": "base",
   "language": "python",
   "name": "python3"
  },
  "language_info": {
   "codemirror_mode": {
    "name": "ipython",
    "version": 3
   },
   "file_extension": ".py",
   "mimetype": "text/x-python",
   "name": "python",
   "nbconvert_exporter": "python",
   "pygments_lexer": "ipython3",
   "version": "3.9.18"
  }
 },
 "nbformat": 4,
 "nbformat_minor": 2
}
