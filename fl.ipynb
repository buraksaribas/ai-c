{
 "cells": [
  {
   "cell_type": "code",
   "execution_count": 2,
   "metadata": {},
   "outputs": [],
   "source": [
    "import gym \n",
    "import keyboard\n",
    "import pygame\n",
    "import sys\n",
    "import networkx as nx"
   ]
  },
  {
   "cell_type": "code",
   "execution_count": 12,
   "metadata": {},
   "outputs": [
    {
     "name": "stdout",
     "output_type": "stream",
     "text": [
      "[[0, 8, 1, 0], [0, 9, 2, 1], [1, 10, 3, 2], [2, 11, 4, 3], [4, 4, 4, 4], [4, 13, 6, 5], [6, 6, 6, 6], [6, 15, 7, 7], [8, 16, 9, 0], [8, 17, 10, 1], [10, 10, 10, 10], [10, 19, 12, 3], [11, 20, 13, 4], [12, 21, 14, 5], [13, 22, 15, 6], [14, 23, 15, 7], [16, 24, 17, 8], [16, 25, 18, 9], [17, 26, 19, 10], [19, 19, 19, 19], [19, 28, 21, 12], [20, 29, 22, 13], [21, 30, 23, 14], [22, 31, 23, 15], [24, 32, 25, 16], [24, 33, 26, 17], [25, 34, 27, 18], [26, 35, 28, 19], [27, 36, 29, 20], [29, 29, 29, 29], [29, 38, 31, 22], [30, 39, 31, 23], [32, 40, 33, 24], [32, 41, 34, 25], [33, 42, 35, 26], [35, 35, 35, 35], [35, 44, 37, 28], [36, 45, 38, 29], [37, 46, 39, 30], [38, 47, 39, 31], [40, 48, 41, 32], [41, 41, 41, 41], [42, 42, 42, 42], [42, 51, 44, 35], [43, 52, 45, 36], [44, 53, 46, 37], [46, 46, 46, 46], [46, 55, 47, 39], [48, 56, 49, 40], [49, 49, 49, 49], [49, 58, 51, 42], [50, 59, 52, 43], [52, 52, 52, 52], [52, 61, 54, 45], [54, 54, 54, 54], [54, 63, 55, 47], [56, 56, 57, 48], [56, 57, 58, 49], [57, 58, 59, 50], [59, 59, 59, 59], [59, 60, 61, 52], [60, 61, 62, 53], [61, 62, 63, 54], [63, 63, 63, 63]]\n",
      "[0, 1, 2, 3, 11, 12, 13, 14, 15, 23, 31, 39, 47, 55, 63]\n",
      "[2, 2, 2, 1, 2, 2, 2, 2, 1, 1, 1, 1, 1, 1]\n",
      "(1, 0.0, False, False, {'prob': 1.0})\n",
      "(2, 0.0, False, False, {'prob': 1.0})\n",
      "(3, 0.0, False, False, {'prob': 1.0})\n",
      "(11, 0.0, False, False, {'prob': 1.0})\n",
      "(12, 0.0, False, False, {'prob': 1.0})\n",
      "(13, 0.0, False, False, {'prob': 1.0})\n",
      "(14, 0.0, False, False, {'prob': 1.0})\n",
      "(15, 0.0, False, False, {'prob': 1.0})\n",
      "(23, 0.0, False, False, {'prob': 1.0})\n",
      "(31, 0.0, False, False, {'prob': 1.0})\n",
      "(39, 0.0, False, False, {'prob': 1.0})\n",
      "(47, 0.0, False, False, {'prob': 1.0})\n",
      "(55, 0.0, False, False, {'prob': 1.0})\n",
      "(63, 1.0, True, False, {'prob': 1.0})\n"
     ]
    }
   ],
   "source": [
    "LEFT, DOWN, RIGHT, UP = 0 ,1 ,2 ,3 \n",
    "\n",
    "def getMatrixFromEnv(environment:gym.Env):\n",
    "    mat = []\n",
    "    for state in range(environment.observation_space.n):\n",
    "        row = []\n",
    "        for action in range (environment.action_space.n):\n",
    "            row+=[environment.P[state][action][0][1]]\n",
    "        mat+=[row]\n",
    "    return mat\n",
    "\n",
    "my_map = [\n",
    "    \"SFFFHFHF\",\n",
    "    \"FFHFFFFF\",\n",
    "    \"FFFHFFFF\",\n",
    "    \"FFFFFHFF\",\n",
    "    \"FFFHFFFF\",\n",
    "    \"FHHFFFHF\",\n",
    "    \"FHFFHFHF\",\n",
    "    \"FFFHFFFG\",\n",
    "]\n",
    "\n",
    "# my_map = [\n",
    "#     \"SHF\",\n",
    "#     \"FFG\",\n",
    "# ]\n",
    "\n",
    "env = gym.make(\"FrozenLake-v1\", desc=my_map,map_name=\"my_map\",is_slippery=False, render_mode=\"human\")\n",
    "init_state = env.reset()[0]\n",
    "mat = getMatrixFromEnv(env)\n",
    "print(mat)\n",
    "\n",
    "# 1. Generate a graph using env.P or mat\n",
    "graph = {}\n",
    "for index,i in enumerate(mat):\n",
    "    graph[index] = i\n",
    "\n",
    "G = nx.DiGraph(graph)\n",
    "# 2. Use nx.shortest_path to find path between start and goal\n",
    "start = 0\n",
    "goal = 63\n",
    "state_sequence = nx.shortest_path(G, start, goal)\n",
    "print(state_sequence)\n",
    "# 3. Get relevant action that transites between two states \n",
    "action_sequence = []\n",
    "\n",
    "for i in range(len(state_sequence)-1):\n",
    "    current_state = state_sequence[i]\n",
    "    next_state = state_sequence[i+1]\n",
    "    for k,v in env.P[current_state].items():\n",
    "        if next_state == v[0][1]:\n",
    "            action_sequence += [k]\n",
    "    \n",
    "print(action_sequence)\n",
    "# 4. Apply action steps to environment\n",
    "env.reset()\n",
    "for action in action_sequence:\n",
    "    print(env.step(action))\n",
    "    env.render()\n"
   ]
  }
 ],
 "metadata": {
  "kernelspec": {
   "display_name": "TOPKAPI",
   "language": "python",
   "name": "python3"
  },
  "language_info": {
   "codemirror_mode": {
    "name": "ipython",
    "version": 3
   },
   "file_extension": ".py",
   "mimetype": "text/x-python",
   "name": "python",
   "nbconvert_exporter": "python",
   "pygments_lexer": "ipython3",
   "version": "3.9.18"
  }
 },
 "nbformat": 4,
 "nbformat_minor": 2
}
